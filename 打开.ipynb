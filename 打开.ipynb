{
 "cells": [
  {
   "cell_type": "markdown",
   "id": "00f3dab8-0336-4ae7-9e1c-662cff1402b3",
   "metadata": {
    "tags": []
   },
   "source": [
    "# 安装\n",
    "- 运行以下代码进行安装"
   ]
  },
  {
   "cell_type": "code",
   "execution_count": null,
   "id": "630e2f43-075f-42e6-8ff1-f725919a54d6",
   "metadata": {},
   "outputs": [],
   "source": [
    "%cd /root\n",
    "!git clone https://github.com/hben35096/clash-for-linux"
   ]
  },
  {
   "cell_type": "markdown",
   "id": "f7cba960-c91e-4356-a266-0ca521096771",
   "metadata": {
    "jp-MarkdownHeadingCollapsed": true,
    "tags": []
   },
   "source": [
    "### 升级（备用）\n",
    "- 如已经安装的，可以试试有没有什么更新内容"
   ]
  },
  {
   "cell_type": "code",
   "execution_count": null,
   "id": "672d978f-d4ab-4583-b377-605143d13c7e",
   "metadata": {},
   "outputs": [],
   "source": [
    "%cd /root/clash-for-linux\n",
    "!git pull"
   ]
  },
  {
   "cell_type": "markdown",
   "id": "8f7ca0ab-c5a8-44d1-9cd5-398e9efe42fb",
   "metadata": {},
   "source": [
    "# ✈开启全局代理\n",
    "- 运行以下代码开启全局代理，[如何使用？](https://github.com/hben35096/clash-for-linux)\n",
    "- 需要自己有猫梯订阅\n",
    "- 如何打开节点选择界面 http://127.0.0.1:9090/ui ，见 [使用SSH工具](https://www.codewithgpu.com/m/AutoDL-SSH-Tools) 最下面 <span style=\"color: #FFA500;\"><b>添加多个端口号</b></span>"
   ]
  },
  {
   "cell_type": "code",
   "execution_count": null,
   "id": "846047c2-6fb2-4a7f-8ad1-7b68c4db8c82",
   "metadata": {},
   "outputs": [],
   "source": [
    "import os\n",
    "os.chdir(\"/root/clash-for-linux\")\n",
    "%run ui"
   ]
  },
  {
   "cell_type": "markdown",
   "id": "e7592cee-6c8c-44f8-8cb0-77ee8f392843",
   "metadata": {},
   "source": [
    "### 下面的代码，需要复制到其他 .ipynb 文件中运行\n",
    "- 比如复制到 <span style=\"color: #FFA500;\"><b>工具箱.ipynb</b></span> 和 <span style=\"color: #FFA500;\"><b>启动器.ipynb</b></span> 中运行，即可开启使用代理"
   ]
  },
  {
   "cell_type": "code",
   "execution_count": null,
   "id": "7b88703d-8706-4050-bfd1-272e49b25dc5",
   "metadata": {},
   "outputs": [],
   "source": [
    "import os\n",
    "os.chdir('/root/clash-for-linux')\n",
    "%run open"
   ]
  }
 ],
 "metadata": {
  "kernelspec": {
   "display_name": "Python 3 (ipykernel)",
   "language": "python",
   "name": "python3"
  },
  "language_info": {
   "codemirror_mode": {
    "name": "ipython",
    "version": 3
   },
   "file_extension": ".py",
   "mimetype": "text/x-python",
   "name": "python",
   "nbconvert_exporter": "python",
   "pygments_lexer": "ipython3",
   "version": "3.10.8"
  }
 },
 "nbformat": 4,
 "nbformat_minor": 5
}
