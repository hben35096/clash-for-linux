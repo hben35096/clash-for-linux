import os
os.chdir('/root/clash-for-linux') # 这里需要手动修改为 clash-for-linux 所在路径
%run ui
